{
  "nbformat": 4,
  "nbformat_minor": 0,
  "metadata": {
    "colab": {
      "provenance": [],
      "authorship_tag": "ABX9TyP8U3kj+qeJJL+t+kUktf7w",
      "include_colab_link": true
    },
    "kernelspec": {
      "name": "python3",
      "display_name": "Python 3"
    },
    "language_info": {
      "name": "python"
    }
  },
  "cells": [
    {
      "cell_type": "markdown",
      "metadata": {
        "id": "view-in-github",
        "colab_type": "text"
      },
      "source": [
        "<a href=\"https://colab.research.google.com/github/CynthiaGichuki/MachineLearning/blob/main/FINAL_PROJECT2.ipynb\" target=\"_parent\"><img src=\"https://colab.research.google.com/assets/colab-badge.svg\" alt=\"Open In Colab\"/></a>"
      ]
    },
    {
      "cell_type": "code",
      "execution_count": 2,
      "metadata": {
        "colab": {
          "base_uri": "https://localhost:8080/"
        },
        "id": "aODbjUdnEFSh",
        "outputId": "fb567ca9-9e2a-438e-b356-f28d79bd2d87"
      },
      "outputs": [
        {
          "output_type": "stream",
          "name": "stdout",
          "text": [
            "Mounted at /content/drive/\n"
          ]
        }
      ],
      "source": [
        "from google.colab import drive\n",
        "drive.mount('/content/drive/')"
      ]
    },
    {
      "cell_type": "code",
      "source": [
        "import numpy as np\n",
        "import pandas as pd\n",
        "import os\n",
        "import glob\n",
        "from skimage import io\n",
        "import cv2\n",
        "import matplotlib.pyplot as plt\n",
        "from sklearn.model_selection import train_test_split\n",
        "from sklearn.metrics import accuracy_score"
      ],
      "metadata": {
        "id": "zNWKxRfpENOz"
      },
      "execution_count": 3,
      "outputs": []
    },
    {
      "cell_type": "code",
      "source": [
        "import os\n",
        "dir = (r\"/content/drive/MyDrive/Training\")\n",
        "classes = {'grade_0': 0, 'grade_1':1, 'grade_2':2, 'grade_3':3}\n"
      ],
      "metadata": {
        "id": "Mmy0eCX_EThy"
      },
      "execution_count": 4,
      "outputs": []
    },
    {
      "cell_type": "code",
      "source": [
        "import cv2\n",
        "from google.colab.patches import cv2_imshow\n",
        "X = []\n",
        "Y = []\n",
        "for cls in classes:\n",
        "  pth = '/content/drive/MyDrive/Training/'+cls\n",
        "  for j in os.listdir(pth):\n",
        "    img = cv2.imread(pth+'/'+j,0)\n",
        "    #cv2_imshow(img)\n",
        "    try:\n",
        "       img = cv2.resize(img, (200,200))\n",
        "       X.append(img)\n",
        "       Y.append(classes[cls])\n",
        "    except Exception as e:\n",
        "      pass\n",
        "    \n",
        "\n",
        "   "
      ],
      "metadata": {
        "id": "9g0uESKWEXFR"
      },
      "execution_count": 5,
      "outputs": []
    },
    {
      "cell_type": "code",
      "source": [
        "np.unique(Y)"
      ],
      "metadata": {
        "id": "-f_fnWRVMrcQ",
        "colab": {
          "base_uri": "https://localhost:8080/"
        },
        "outputId": "e4e4c391-29f2-4021-bcb6-0b02448a2cb2"
      },
      "execution_count": 6,
      "outputs": [
        {
          "output_type": "execute_result",
          "data": {
            "text/plain": [
              "array([0, 1, 2, 3])"
            ]
          },
          "metadata": {},
          "execution_count": 6
        }
      ]
    },
    {
      "cell_type": "code",
      "source": [
        "X = np.array(X)\n",
        "Y = np.array(Y)"
      ],
      "metadata": {
        "id": "PIrCxxrqOLkJ"
      },
      "execution_count": 7,
      "outputs": []
    },
    {
      "cell_type": "code",
      "source": [
        "pd.Series(Y).value_counts()"
      ],
      "metadata": {
        "colab": {
          "base_uri": "https://localhost:8080/"
        },
        "id": "kCVGDg2bOSnF",
        "outputId": "d49bea3d-53ed-44fb-a9a6-d62ff6719c68"
      },
      "execution_count": 8,
      "outputs": [
        {
          "output_type": "execute_result",
          "data": {
            "text/plain": [
              "3    44\n",
              "0    32\n",
              "1    13\n",
              "2    11\n",
              "dtype: int64"
            ]
          },
          "metadata": {},
          "execution_count": 8
        }
      ]
    },
    {
      "cell_type": "code",
      "source": [
        "X.shape"
      ],
      "metadata": {
        "colab": {
          "base_uri": "https://localhost:8080/"
        },
        "id": "_rPvXdONOwVQ",
        "outputId": "2d3dbd1c-209c-4ba4-cb3a-917b0e2aeeb9"
      },
      "execution_count": 9,
      "outputs": [
        {
          "output_type": "execute_result",
          "data": {
            "text/plain": [
              "(100, 200, 200)"
            ]
          },
          "metadata": {},
          "execution_count": 9
        }
      ]
    },
    {
      "cell_type": "markdown",
      "source": [
        "VISUALIZE DATA"
      ],
      "metadata": {
        "id": "vdCoTDkIPB4_"
      }
    },
    {
      "cell_type": "code",
      "source": [
        "plt.imshow(X[0], cmap ='gray')"
      ],
      "metadata": {
        "colab": {
          "base_uri": "https://localhost:8080/",
          "height": 286
        },
        "id": "2Wnu9FVvO76Y",
        "outputId": "73c915cf-e2c2-4730-b9da-f5fd63194b09"
      },
      "execution_count": 10,
      "outputs": [
        {
          "output_type": "execute_result",
          "data": {
            "text/plain": [
              "<matplotlib.image.AxesImage at 0x7f1676d3e610>"
            ]
          },
          "metadata": {},
          "execution_count": 10
        },
        {
          "output_type": "display_data",
          "data": {
            "text/plain": [
              "<Figure size 432x288 with 1 Axes>"
            ],
            "image/png": "[encoded data removed]"
          },
          "metadata": {
            "needs_background": "light"
          }
        }
      ]
    },
    {
      "cell_type": "markdown",
      "source": [
        "PREPARE DATA"
      ],
      "metadata": {
        "id": "FN_T5lwDPh-K"
      }
    },
    {
      "cell_type": "code",
      "source": [
        "X_updated = X.reshape(len(X), -1)\n",
        "X_updated.shape"
      ],
      "metadata": {
        "colab": {
          "base_uri": "https://localhost:8080/"
        },
        "id": "xbTgUDTwPgYA",
        "outputId": "6dc0e413-b0df-4542-c5c8-efcb9d006e40"
      },
      "execution_count": 11,
      "outputs": [
        {
          "output_type": "execute_result",
          "data": {
            "text/plain": [
              "(100, 40000)"
            ]
          },
          "metadata": {},
          "execution_count": 11
        }
      ]
    },
    {
      "cell_type": "markdown",
      "source": [
        "SPLIT DATA"
      ],
      "metadata": {
        "id": "DAifJva4QF1g"
      }
    },
    {
      "cell_type": "code",
      "source": [
        "xtrain, xtest, ytrain, ytest =  train_test_split(X_updated, Y, random_state=10, test_size=.20)"
      ],
      "metadata": {
        "id": "q2GgKomhQA6K"
      },
      "execution_count": 12,
      "outputs": []
    },
    {
      "cell_type": "code",
      "source": [
        "xtrain.shape, xtest.shape"
      ],
      "metadata": {
        "colab": {
          "base_uri": "https://localhost:8080/"
        },
        "id": "7QajYQQ7PcK6",
        "outputId": "dec305fd-56c1-43fb-9ce8-ba3b76783d6c"
      },
      "execution_count": 13,
      "outputs": [
        {
          "output_type": "execute_result",
          "data": {
            "text/plain": [
              "((80, 40000), (20, 40000))"
            ]
          },
          "metadata": {},
          "execution_count": 13
        }
      ]
    },
    {
      "cell_type": "markdown",
      "source": [
        "FEATURE SCALING"
      ],
      "metadata": {
        "id": "tncMblKzRCyD"
      }
    },
    {
      "cell_type": "code",
      "source": [
        "print(xtrain.max(),xtrain.min())\n",
        "print(xtest.max(), xtest.min())\n",
        "xtrain = xtrain/255\n",
        "xtest = xtest/255\n",
        "print(xtrain.max(), xtrain.min())\n",
        "print(xtest.max(), xtest.min())"
      ],
      "metadata": {
        "colab": {
          "base_uri": "https://localhost:8080/"
        },
        "id": "dnq-EZ25Q_3_",
        "outputId": "c79e14b9-f806-4e21-9c57-8bcda9ec26c4"
      },
      "execution_count": 14,
      "outputs": [
        {
          "output_type": "stream",
          "name": "stdout",
          "text": [
            "246 0\n",
            "245 0\n",
            "0.9647058823529412 0.0\n",
            "0.9607843137254902 0.0\n"
          ]
        }
      ]
    },
    {
      "cell_type": "markdown",
      "source": [
        "FEATURE SELECTION: PCA"
      ],
      "metadata": {
        "id": "ZP8zFw1KR-vs"
      }
    },
    {
      "cell_type": "code",
      "source": [
        "from sklearn.decomposition import PCA"
      ],
      "metadata": {
        "id": "G6lQ7LSeRzsp"
      },
      "execution_count": 15,
      "outputs": []
    },
    {
      "cell_type": "code",
      "source": [
        "print(xtrain.shape, xtest.shape)\n",
        "\n",
        "pca = PCA(.98)\n",
        "#pca_train = pca.fit_transform(xtrain)\n",
        "#pca_test = pca.transform(xtest)\n",
        "pca_train = xtrain\n",
        "pca_test = xtest"
      ],
      "metadata": {
        "colab": {
          "base_uri": "https://localhost:8080/"
        },
        "id": "3nQmes6FSbM_",
        "outputId": "45720ada-8495-4e9c-9228-65eeb2bd4f09"
      },
      "execution_count": 16,
      "outputs": [
        {
          "output_type": "stream",
          "name": "stdout",
          "text": [
            "(80, 40000) (20, 40000)\n"
          ]
        }
      ]
    },
    {
      "cell_type": "code",
      "source": [
        "#print(pca_train.shape, pca_test.shape)\n",
        "#print(pca.n_components_)\n",
        "#print(pca.n_features_)"
      ],
      "metadata": {
        "id": "aW6hHhG1S_X0"
      },
      "execution_count": 17,
      "outputs": []
    },
    {
      "cell_type": "markdown",
      "source": [
        "# TRAIN MODEL SVM\n"
      ],
      "metadata": {
        "id": "ItgNKNrXTUdy"
      }
    },
    {
      "cell_type": "code",
      "source": [
        "from sklearn.svm import SVC\n",
        "from sklearn.linear_model import LogisticRegression"
      ],
      "metadata": {
        "id": "Qdgu8lqaTRqD"
      },
      "execution_count": 18,
      "outputs": []
    },
    {
      "cell_type": "code",
      "source": [
        "sv = SVC()\n",
        "sv.fit(pca_train, ytrain)"
      ],
      "metadata": {
        "colab": {
          "base_uri": "https://localhost:8080/"
        },
        "id": "aszBR0ulTpMx",
        "outputId": "9a5d03c8-1f78-4c2d-cc1c-b2c493dce630"
      },
      "execution_count": 19,
      "outputs": [
        {
          "output_type": "execute_result",
          "data": {
            "text/plain": [
              "SVC()"
            ]
          },
          "metadata": {},
          "execution_count": 19
        }
      ]
    },
    {
      "cell_type": "code",
      "source": [
        "lg = LogisticRegression(C=0.1)\n",
        "lg.fit(pca_train, ytrain)"
      ],
      "metadata": {
        "colab": {
          "base_uri": "https://localhost:8080/"
        },
        "id": "Msy6tRvkUbCX",
        "outputId": "0f86be72-14ae-4217-a4f4-6b88c4274eaa"
      },
      "execution_count": 20,
      "outputs": [
        {
          "output_type": "stream",
          "name": "stderr",
          "text": [
            "/usr/local/lib/python3.7/dist-packages/sklearn/linear_model/_logistic.py:818: ConvergenceWarning: lbfgs failed to converge (status=1):\n",
            "STOP: TOTAL NO. of ITERATIONS REACHED LIMIT.\n",
            "\n",
            "Increase the number of iterations (max_iter) or scale the data as shown in:\n",
            "    https://scikit-learn.org/stable/modules/preprocessing.html\n",
            "Please also refer to the documentation for alternative solver options:\n",
            "    https://scikit-learn.org/stable/modules/linear_model.html#logistic-regression\n",
            "  extra_warning_msg=_LOGISTIC_SOLVER_CONVERGENCE_MSG,\n"
          ]
        },
        {
          "output_type": "execute_result",
          "data": {
            "text/plain": [
              "LogisticRegression(C=0.1)"
            ]
          },
          "metadata": {},
          "execution_count": 20
        }
      ]
    },
    {
      "cell_type": "markdown",
      "source": [
        "EVALUATION"
      ],
      "metadata": {
        "id": "wp9igAXrT4gp"
      }
    },
    {
      "cell_type": "code",
      "source": [
        "print(\"Training Score:\", sv.score(pca_train, ytrain))\n",
        "print(\"Testing Score:\", sv.score(pca_test, ytest))"
      ],
      "metadata": {
        "colab": {
          "base_uri": "https://localhost:8080/"
        },
        "id": "aKO5szP3T50U",
        "outputId": "873eb048-2469-4d2a-d91a-07d4480b7ed7"
      },
      "execution_count": 21,
      "outputs": [
        {
          "output_type": "stream",
          "name": "stdout",
          "text": [
            "Training Score: 0.5625\n",
            "Testing Score: 0.4\n"
          ]
        }
      ]
    },
    {
      "cell_type": "code",
      "source": [
        "print(\"Training Score:\", lg.score(pca_train, ytrain))\n",
        "print(\"Testing Score:\", lg.score(pca_test, ytest))"
      ],
      "metadata": {
        "colab": {
          "base_uri": "https://localhost:8080/"
        },
        "id": "TpVYRJ3oUnrv",
        "outputId": "35e0d7b9-edd1-44a5-f086-f6d76e2ba639"
      },
      "execution_count": 22,
      "outputs": [
        {
          "output_type": "stream",
          "name": "stdout",
          "text": [
            "Training Score: 0.875\n",
            "Testing Score: 0.4\n"
          ]
        }
      ]
    },
    {
      "cell_type": "markdown",
      "source": [
        "PREDICTION"
      ],
      "metadata": {
        "id": "Ljnk9ULTU8M5"
      }
    },
    {
      "cell_type": "code",
      "source": [
        "pred = sv.predict(pca_test)\n",
        "np.where(ytest!=pred)"
      ],
      "metadata": {
        "colab": {
          "base_uri": "https://localhost:8080/"
        },
        "id": "RrPoFNU_U21n",
        "outputId": "902f8d57-239f-4675-89a6-87dead7b5241"
      },
      "execution_count": 23,
      "outputs": [
        {
          "output_type": "execute_result",
          "data": {
            "text/plain": [
              "(array([ 0,  2,  3,  5,  7,  8,  9, 11, 12, 13, 17, 19]),)"
            ]
          },
          "metadata": {},
          "execution_count": 23
        }
      ]
    },
    {
      "cell_type": "code",
      "source": [
        "pred[0]"
      ],
      "metadata": {
        "colab": {
          "base_uri": "https://localhost:8080/"
        },
        "id": "kKSmtGbeVKCq",
        "outputId": "109fbb0c-c81e-4f7b-cc1c-b282487531bf"
      },
      "execution_count": 24,
      "outputs": [
        {
          "output_type": "execute_result",
          "data": {
            "text/plain": [
              "3"
            ]
          },
          "metadata": {},
          "execution_count": 24
        }
      ]
    },
    {
      "cell_type": "code",
      "source": [
        "ytest[0]"
      ],
      "metadata": {
        "colab": {
          "base_uri": "https://localhost:8080/"
        },
        "id": "AvVaxZMuVRIm",
        "outputId": "b43abcc5-ea4b-4d98-b082-4139d284a98c"
      },
      "execution_count": 25,
      "outputs": [
        {
          "output_type": "execute_result",
          "data": {
            "text/plain": [
              "0"
            ]
          },
          "metadata": {},
          "execution_count": 25
        }
      ]
    },
    {
      "cell_type": "markdown",
      "source": [
        "TEST MODEL"
      ],
      "metadata": {
        "id": "eKgpWdRPVzT_"
      }
    },
    {
      "cell_type": "code",
      "source": [
        "dec = {0:'Grade 0', 1:'Grade 1', 2:'Grade 2', 3:'Grade 3'}"
      ],
      "metadata": {
        "id": "c1koDcQOVwa5"
      },
      "execution_count": 26,
      "outputs": []
    },
    {
      "cell_type": "code",
      "source": [
        "plt.figure(figsize=(12,8))\n",
        "p = os"
      ],
      "metadata": {
        "id": "dEKI06N7WBOS",
        "colab": {
          "base_uri": "https://localhost:8080/",
          "height": 34
        },
        "outputId": "aec08a03-ae31-43c8-910d-39c48f884f34"
      },
      "execution_count": 27,
      "outputs": [
        {
          "output_type": "display_data",
          "data": {
            "text/plain": [
              "<Figure size 864x576 with 0 Axes>"
            ]
          },
          "metadata": {}
        }
      ]
    },
    {
      "cell_type": "code",
      "source": [
        "from sklearn.metrics import accuracy_score\n",
        "from sklearn.metrics import matthews_corrcoef\n",
        "from sklearn.metrics import f1_score"
      ],
      "metadata": {
        "id": "uPBK7xO5Bob-"
      },
      "execution_count": 35,
      "outputs": []
    },
    {
      "cell_type": "markdown",
      "source": [
        "# KNN CLASSIFIER"
      ],
      "metadata": {
        "id": "pocbihjlC-rZ"
      }
    },
    {
      "cell_type": "code",
      "source": [
        "from sklearn.neighbors import KNeighborsClassifier"
      ],
      "metadata": {
        "id": "MN5uKlOYDCud"
      },
      "execution_count": 36,
      "outputs": []
    },
    {
      "cell_type": "code",
      "source": [
        "knn = KNeighborsClassifier()\n",
        "knn.fit(xtrain, ytrain)\n",
        "\n"
      ],
      "metadata": {
        "colab": {
          "base_uri": "https://localhost:8080/"
        },
        "id": "7w1Ax-yzDRCG",
        "outputId": "7bbcb99b-90a8-4b1b-efbe-82ada556675b"
      },
      "execution_count": 37,
      "outputs": [
        {
          "output_type": "execute_result",
          "data": {
            "text/plain": [
              "KNeighborsClassifier()"
            ]
          },
          "metadata": {},
          "execution_count": 37
        }
      ]
    },
    {
      "cell_type": "code",
      "source": [
        "y_train_pred = knn.predict(xtrain)\n",
        "y_test_pred = knn.predict(xtest)"
      ],
      "metadata": {
        "id": "vt7emHRJEMjR"
      },
      "execution_count": 38,
      "outputs": []
    },
    {
      "cell_type": "code",
      "source": [
        "#Training set performance \n",
        "knn_train_accuracy = accuracy_score(ytrain, y_train_pred)\n",
        "knn_train_mcc = matthews_corrcoef(ytrain, y_train_pred)\n",
        "knn_train_f1 = f1_score(ytrain, y_train_pred, average = 'weighted')\n",
        "\n",
        "#Test set performance\n",
        "knn_test_accuracy = accuracy_score(ytest, y_test_pred)\n",
        "knn_test_mcc = matthews_corrcoef(ytest, y_test_pred)\n",
        "knn_test_f1 = f1_score(ytest, y_test_pred, average = 'weighted')\n",
        "\n",
        "print('Model performance for Training set')\n",
        "print('Accuracy is ' % knn_train_accuracy)\n",
        "print('MCC is' % knn_train_mcc)\n",
        "print('----------------------------------')\n",
        "print('Model performance for Test set')\n",
        "print('- Accuracy: %s' % knn_test_accuracy)\n",
        "print('- MCC: %s' % knn_test_mcc)\n",
        "print('- F1 score: %s' % knn_test_f1)"
      ],
      "metadata": {
        "colab": {
          "base_uri": "https://localhost:8080/"
        },
        "id": "r_-OG2lTGIPK",
        "outputId": "9f966776-5287-487b-d2e1-1cc8317a709f"
      },
      "execution_count": 45,
      "outputs": [
        {
          "output_type": "stream",
          "name": "stdout",
          "text": [
            "Model performance for Training set\n",
            "Accuracy is \n",
            "MCC is\n",
            "----------------------------------\n",
            "Model performance for Test set\n",
            "- Accuracy: 0.35\n",
            "- MCC: 0.023049661492595908\n",
            "- F1 score: 0.3162393162393163\n"
          ]
        }
      ]
    },
    {
      "cell_type": "markdown",
      "source": [
        "BUILD STACKED MODEL"
      ],
      "metadata": {
        "id": "hpvNk-a2IH_a"
      }
    },
    {
      "cell_type": "code",
      "source": [
        "from sklearn.ensemble import StackingClassifier\n",
        "from sklearn.linear_model import LogisticRegression\n",
        "\n",
        "estimator_list = [\n",
        "    ('knn', knn),\n",
        "    ('svm', sv)\n",
        "]\n",
        "\n",
        "#Build Stack Model\n",
        "stack_model = StackingClassifier(\n",
        "    estimators=estimator_list, final_estimator=LogisticRegression()\n",
        ")\n",
        "\n",
        "#Train stacked Model\n",
        "stack_model.fit(xtrain, ytrain)\n",
        "\n",
        "#Make predictions\n",
        "y_train_pred = stack_model.predict(xtrain)\n",
        "y_test_pred = stack_model.predict(xtest)\n",
        "\n",
        "#Training set model performance\n",
        "stack_model_train_accuracy = accuracy_score(ytrain, y_train_pred)\n",
        "stack_model_train_mcc = matthews_corrcoef(ytrain, y_train_pred) # Calculate MCC\n",
        "stack_model_train_f1 = f1_score(ytrain, y_train_pred, average='weighted') # Calculate F1-score\n",
        "\n",
        "# Test set model performance\n",
        "stack_model_test_accuracy = accuracy_score(ytest, y_test_pred) # Calculate Accuracy\n",
        "stack_model_test_mcc = matthews_corrcoef(ytest, y_test_pred) # Calculate MCC\n",
        "stack_model_test_f1 = f1_score(ytest, y_test_pred, average='weighted') # Calculate F1-score\n",
        "\n",
        "print('Model performance for Training set')\n",
        "print('- Accuracy: %s' % stack_model_train_accuracy)\n",
        "print('- MCC: %s' % stack_model_train_mcc)\n",
        "print('- F1 score: %s' % stack_model_train_f1)\n",
        "print('----------------------------------')\n",
        "print('Model performance for Test set')\n",
        "print('- Accuracy: %s' % stack_model_test_accuracy)\n",
        "print('- MCC: %s' % stack_model_test_mcc)\n",
        "print('- F1 score: %s' % stack_model_test_f1)"
      ],
      "metadata": {
        "colab": {
          "base_uri": "https://localhost:8080/"
        },
        "id": "j5bqB4NpG-2T",
        "outputId": "b7fa2b0a-f8f4-4ba2-f709-0669adc74096"
      },
      "execution_count": 47,
      "outputs": [
        {
          "output_type": "stream",
          "name": "stdout",
          "text": [
            "Model performance for Training set\n",
            "- Accuracy: 0.525\n",
            "- MCC: 0.22849477529353843\n",
            "- F1 score: 0.46024193548387105\n",
            "----------------------------------\n",
            "Model performance for Test set\n",
            "- Accuracy: 0.5\n",
            "- MCC: 0.24152294576982397\n",
            "- F1 score: 0.41142857142857137\n"
          ]
        }
      ]
    },
    {
      "cell_type": "markdown",
      "source": [
        "RESULTS"
      ],
      "metadata": {
        "id": "VJ6RzFypKPKk"
      }
    },
    {
      "cell_type": "code",
      "source": [
        "acc_train_list = {'knn': knn_train_accuracy,\n",
        "#'svm': svm_rbf_train_accuracy,\n",
        "'stack': stack_model_train_accuracy}\n",
        "\n",
        "mcc_train_list = {'knn': knn_train_mcc,\n",
        "'stack': stack_model_train_mcc}\n",
        "\n",
        "f1_train_list = {'knn': knn_train_f1,\n",
        "'stack': stack_model_train_f1}"
      ],
      "metadata": {
        "id": "7qBpbG1eKVGX"
      },
      "execution_count": 51,
      "outputs": []
    },
    {
      "cell_type": "code",
      "source": [
        "mcc_train_list"
      ],
      "metadata": {
        "colab": {
          "base_uri": "https://localhost:8080/"
        },
        "id": "NTNrpG9NLudO",
        "outputId": "eeed6099-1d12-4f35-e204-578c7bb2786f"
      },
      "execution_count": 50,
      "outputs": [
        {
          "output_type": "execute_result",
          "data": {
            "text/plain": [
              "{'knn': 0.29183456121024837, 'stack': 0.22849477529353843}"
            ]
          },
          "metadata": {},
          "execution_count": 50
        }
      ]
    },
    {
      "cell_type": "code",
      "source": [
        "import pandas as pd\n",
        "\n",
        "acc_df = pd.DataFrame.from_dict(acc_train_list, orient='index', columns=['Accuracy'])\n",
        "mcc_df = pd.DataFrame.from_dict(mcc_train_list, orient='index', columns=['MCC'])\n",
        "f1_df = pd.DataFrame.from_dict(f1_train_list, orient='index', columns=['F1'])\n",
        "df = pd.concat([acc_df, mcc_df, f1_df], axis=1)\n",
        "df"
      ],
      "metadata": {
        "colab": {
          "base_uri": "https://localhost:8080/",
          "height": 112
        },
        "id": "CQ96fnhzLx--",
        "outputId": "1a7c60cf-001c-4ecb-a4e1-77124623f2f9"
      },
      "execution_count": 52,
      "outputs": [
        {
          "output_type": "execute_result",
          "data": {
            "text/plain": [
              "       Accuracy       MCC        F1\n",
              "knn       0.550  0.291835  0.530226\n",
              "stack     0.525  0.228495  0.460242"
            ],
            "text/html": [
              "\n",
              "  <div id=\"df-b6d5a119-5aab-42b5-9c65-3e4fbf45e1bf\">\n",
              "    <div class=\"colab-df-container\">\n",
              "      <div>\n",
              "<style scoped>\n",
              "    .dataframe tbody tr th:only-of-type {\n",
              "        vertical-align: middle;\n",
              "    }\n",
              "\n",
              "    .dataframe tbody tr th {\n",
              "        vertical-align: top;\n",
              "    }\n",
              "\n",
              "    .dataframe thead th {\n",
              "        text-align: right;\n",
              "    }\n",
              "</style>\n",
              "<table border=\"1\" class=\"dataframe\">\n",
              "  <thead>\n",
              "    <tr style=\"text-align: right;\">\n",
              "      <th></th>\n",
              "      <th>Accuracy</th>\n",
              "      <th>MCC</th>\n",
              "      <th>F1</th>\n",
              "    </tr>\n",
              "  </thead>\n",
              "  <tbody>\n",
              "    <tr>\n",
              "      <th>knn</th>\n",
              "      <td>0.550</td>\n",
              "      <td>0.291835</td>\n",
              "      <td>0.530226</td>\n",
              "    </tr>\n",
              "    <tr>\n",
              "      <th>stack</th>\n",
              "      <td>0.525</td>\n",
              "      <td>0.228495</td>\n",
              "      <td>0.460242</td>\n",
              "    </tr>\n",
              "  </tbody>\n",
              "</table>\n",
              "</div>\n",
              "      <button class=\"colab-df-convert\" onclick=\"convertToInteractive('df-b6d5a119-5aab-42b5-9c65-3e4fbf45e1bf')\"\n",
              "              title=\"Convert this dataframe to an interactive table.\"\n",
              "              style=\"display:none;\">\n",
              "        \n",
              "  <svg xmlns=\"http://www.w3.org/2000/svg\" height=\"24px\"viewBox=\"0 0 24 24\"\n",
              "       width=\"24px\">\n",
              "    <path d=\"M0 0h24v24H0V0z\" fill=\"none\"/>\n",
              "    <path d=\"M18.56 5.44l.94 2.06.94-2.06 2.06-.94-2.06-.94-.94-2.06-.94 2.06-2.06.94zm-11 1L8.5 8.5l.94-2.06 2.06-.94-2.06-.94L8.5 2.5l-.94 2.06-2.06.94zm10 10l.94 2.06.94-2.06 2.06-.94-2.06-.94-.94-2.06-.94 2.06-2.06.94z\"/><path d=\"M17.41 7.96l-1.37-1.37c-.4-.4-.92-.59-1.43-.59-.52 0-1.04.2-1.43.59L10.3 9.45l-7.72 7.72c-.78.78-.78 2.05 0 2.83L4 21.41c.39.39.9.59 1.41.59.51 0 1.02-.2 1.41-.59l7.78-7.78 2.81-2.81c.8-.78.8-2.07 0-2.86zM5.41 20L4 18.59l7.72-7.72 1.47 1.35L5.41 20z\"/>\n",
              "  </svg>\n",
              "      </button>\n",
              "      \n",
              "  <style>\n",
              "    .colab-df-container {\n",
              "      display:flex;\n",
              "      flex-wrap:wrap;\n",
              "      gap: 12px;\n",
              "    }\n",
              "\n",
              "    .colab-df-convert {\n",
              "      background-color: #E8F0FE;\n",
              "      border: none;\n",
              "      border-radius: 50%;\n",
              "      cursor: pointer;\n",
              "      display: none;\n",
              "      fill: #1967D2;\n",
              "      height: 32px;\n",
              "      padding: 0 0 0 0;\n",
              "      width: 32px;\n",
              "    }\n",
              "\n",
              "    .colab-df-convert:hover {\n",
              "      background-color: #E2EBFA;\n",
              "      box-shadow: 0px 1px 2px rgba(60, 64, 67, 0.3), 0px 1px 3px 1px rgba(60, 64, 67, 0.15);\n",
              "      fill: #174EA6;\n",
              "    }\n",
              "\n",
              "    [theme=dark] .colab-df-convert {\n",
              "      background-color: #3B4455;\n",
              "      fill: #D2E3FC;\n",
              "    }\n",
              "\n",
              "    [theme=dark] .colab-df-convert:hover {\n",
              "      background-color: #434B5C;\n",
              "      box-shadow: 0px 1px 3px 1px rgba(0, 0, 0, 0.15);\n",
              "      filter: drop-shadow(0px 1px 2px rgba(0, 0, 0, 0.3));\n",
              "      fill: #FFFFFF;\n",
              "    }\n",
              "  </style>\n",
              "\n",
              "      <script>\n",
              "        const buttonEl =\n",
              "          document.querySelector('#df-b6d5a119-5aab-42b5-9c65-3e4fbf45e1bf button.colab-df-convert');\n",
              "        buttonEl.style.display =\n",
              "          google.colab.kernel.accessAllowed ? 'block' : 'none';\n",
              "\n",
              "        async function convertToInteractive(key) {\n",
              "          const element = document.querySelector('#df-b6d5a119-5aab-42b5-9c65-3e4fbf45e1bf');\n",
              "          const dataTable =\n",
              "            await google.colab.kernel.invokeFunction('convertToInteractive',\n",
              "                                                     [key], {});\n",
              "          if (!dataTable) return;\n",
              "\n",
              "          const docLinkHtml = 'Like what you see? Visit the ' +\n",
              "            '<a target=\"_blank\" href=https://colab.research.google.com/notebooks/data_table.ipynb>data table notebook</a>'\n",
              "            + ' to learn more about interactive tables.';\n",
              "          element.innerHTML = '';\n",
              "          dataTable['output_type'] = 'display_data';\n",
              "          await google.colab.output.renderOutput(dataTable, element);\n",
              "          const docLink = document.createElement('div');\n",
              "          docLink.innerHTML = docLinkHtml;\n",
              "          element.appendChild(docLink);\n",
              "        }\n",
              "      </script>\n",
              "    </div>\n",
              "  </div>\n",
              "  "
            ]
          },
          "metadata": {},
          "execution_count": 52
        }
      ]
    }
  ]
}